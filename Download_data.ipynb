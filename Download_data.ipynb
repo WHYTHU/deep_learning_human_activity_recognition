{
 "cells": [
  {
   "cell_type": "code",
   "execution_count": 3,
   "metadata": {
    "collapsed": true
   },
   "outputs": [],
   "source": [
    "# All Includes\n",
    "\n",
    "import numpy as np\n",
    "from sklearn import metrics\n",
    "\n",
    "import os"
   ]
  },
  {
   "cell_type": "code",
   "execution_count": 6,
   "metadata": {
    "collapsed": false
   },
   "outputs": [],
   "source": [
    "# Useful Constants\n",
    "\n",
    "# Those are separate normalised input features for the neural network\n",
    "INPUT_SIGNAL_TYPES = [\n",
    "    \"body_acc_x_\",\n",
    "    \"body_acc_y_\",\n",
    "    \"body_acc_z_\",\n",
    "    \"body_gyro_x_\",\n",
    "    \"body_gyro_y_\",\n",
    "    \"body_gyro_z_\",\n",
    "    \"total_acc_x_\",\n",
    "    \"total_acc_y_\",\n",
    "    \"total_acc_z_\"\n",
    "]\n",
    "\n",
    "# Output classes to learn how to classify\n",
    "LABELS = [\n",
    "    \"WALKING\", \n",
    "    \"WALKING_UPSTAIRS\", \n",
    "    \"WALKING_DOWNSTAIRS\", \n",
    "    \"SITTING\", \n",
    "    \"STANDING\", \n",
    "    \"LAYING\"\n",
    "] \n",
    "\n",
    "DATASET_PATH = \"/home/hadoop/data/UCI HAR Dataset/\"\n"
   ]
  },
  {
   "cell_type": "markdown",
   "metadata": {},
   "source": [
    "## Let's start by downloading the data: "
   ]
  },
  {
   "cell_type": "code",
   "execution_count": 5,
   "metadata": {
    "collapsed": false
   },
   "outputs": [
    {
     "name": "stdout",
     "output_type": "stream",
     "text": [
      "\n",
      "Downloading...\n",
      "--2017-07-26 21:54:39--  https://archive.ics.uci.edu/ml/machine-learning-databases/00240/UCI%20HAR%20Dataset.zip\n",
      "Resolving archive.ics.uci.edu (archive.ics.uci.edu)... 128.195.10.249\n",
      "Connecting to archive.ics.uci.edu (archive.ics.uci.edu)|128.195.10.249|:443... connected.\n",
      "HTTP request sent, awaiting response... 200 OK\n",
      "Length: 60999314 (58M) [application/zip]\n",
      "Saving to: ‘UCI HAR Dataset.zip’\n",
      "\n",
      "100%[======================================>] 60,999,314  30.3KB/s   in 22m 34s\n",
      "\n",
      "2017-07-26 22:17:14 (44.0 KB/s) - ‘UCI HAR Dataset.zip’ saved [60999314/60999314]\n",
      "\n",
      "Downloading done.\n",
      "\n",
      "Extracting...\n",
      "Extracting successfully done to /home/hadoop/jupyter/Yuxiao Liu/UCI HAR Dataset.\n",
      "/home/hadoop/jupyter/Yuxiao Liu\n",
      "DeepLearning_YuxiaoLiu.ipynb  LSTM.ipynb  UCI HAR Dataset\n",
      "download_dataset.py\t      __MACOSX\t  UCI HAR Dataset.zip\n",
      "/home/hadoop/jupyter\n",
      "data\t\t\t tsfresh\n",
      "Document\t\t Tsfresh on NCI:HAR Data.ipynb\n",
      "nohup.out\t\t Tsfresh on TD Data.ipynb\n",
      "Please be noted.ipynb\t Tsfresh on TD Data-Ren.ipynb\n",
      "Qian Ren\t\t Tsfresh on TD Data-RuobingZhang.ipynb\n",
      "Run Shell Command.ipynb  Tsfresh on TD Data-yuxiao Liu.ipynb\n",
      "Ruobing Zhang\t\t Tsfresh_On_WISDM_ar_v2.0-Copy1.ipynb\n",
      "test_liu.ipynb\t\t Tsfresh_On_WISDM_ar_v2.0.ipynb\n",
      "test_ren.ipynb\t\t untitled.txt\n",
      "test_zhang.ipynb\t Xiaodong  Chen\n",
      "tffeature.ipynb\t\t Yuxiao Liu\n",
      "tsfeature\t\t Zhihe Li\n",
      "\n",
      "Dataset is now located at: /home/hadoop/data/UCI HAR Dataset/\n"
     ]
    }
   ],
   "source": [
    "# Note: Linux bash commands start with a \"!\" inside those \"ipython notebook\" cells\n",
    "\n",
    "# WORKING_PATH = \"/home/hadoop/jupyter/Yuxiao Liu/\"\n",
    "\n",
    "# !pwd && ls\n",
    "# os.chdir(DATA_PATH)\n",
    "# !pwd && ls\n",
    "\n",
    "!python download_dataset.py\n",
    "\n",
    "!pwd && ls\n",
    "os.chdir(\"..\")\n",
    "!pwd && ls\n",
    "\n",
    "# DATASET_PATH = \"/home/hadoop/data/UCI HAR Dataset/\"\n",
    "print(\"\\n\" + \"Dataset is now located at: \" + DATASET_PATH)\n"
   ]
  }
 ],
 "metadata": {
  "anaconda-cloud": {},
  "hide_input": false,
  "kernelspec": {
   "display_name": "Python [conda root]",
   "language": "python",
   "name": "conda-root-py"
  },
  "language_info": {
   "codemirror_mode": {
    "name": "ipython",
    "version": 2
   },
   "file_extension": ".py",
   "mimetype": "text/x-python",
   "name": "python",
   "nbconvert_exporter": "python",
   "pygments_lexer": "ipython2",
   "version": "2.7.12"
  }
 },
 "nbformat": 4,
 "nbformat_minor": 2
}
